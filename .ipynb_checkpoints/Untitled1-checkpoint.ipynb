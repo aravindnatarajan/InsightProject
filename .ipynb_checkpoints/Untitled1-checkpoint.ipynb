{
 "metadata": {
  "name": "",
  "signature": "sha256:de485a834f6d1310307339fa6ca343b1fa6abe3a146d28f5c25824343f95277c"
 },
 "nbformat": 3,
 "nbformat_minor": 0,
 "worksheets": [
  {
   "cells": [
    {
     "cell_type": "code",
     "collapsed": false,
     "input": [
      "#First non-repeating letter in a string.\n",
      "import sys\n",
      "def nonRepeat(string):\n",
      "  for letter in string:\n",
      "    ctr = 0\n",
      "    for letter2 in string:\n",
      "      if letter == letter2: \n",
      "        if letter != ' ': ctr += 1  \n",
      "      if ctr == 1: return letter\n",
      "\n",
      "def main():\n",
      "  print nonRepeat(\"hello hellr\")\n",
      "  \n",
      "if __name__ == '__main__':\n",
      "  main()"
     ],
     "language": "python",
     "metadata": {},
     "outputs": [
      {
       "output_type": "stream",
       "stream": "stdout",
       "text": [
        "2\n",
        "2\n",
        "4\n",
        "4\n",
        "1\n",
        "0\n",
        "2\n",
        "2\n",
        "4\n",
        "4\n",
        "1\n"
       ]
      }
     ],
     "prompt_number": 16
    },
    {
     "cell_type": "code",
     "collapsed": false,
     "input": [],
     "language": "python",
     "metadata": {},
     "outputs": []
    }
   ],
   "metadata": {}
  }
 ]
}