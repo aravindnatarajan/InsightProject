{
 "metadata": {
  "name": "",
  "signature": "sha256:df973ff809b9ecfde0ed787048943212e530b210598925d4b68c40e1f31ede28"
 },
 "nbformat": 3,
 "nbformat_minor": 0,
 "worksheets": [
  {
   "cells": [
    {
     "cell_type": "code",
     "collapsed": false,
     "input": [
      "\n",
      "# first non-repeating digit.\n",
      "def firstNonRepeat(string):\n",
      "  dict = {}\n",
      "  for elem in string:  dict[elem] = 100\n",
      "  print dict\n",
      "  print \"Hello\"\n",
      "\n",
      "firstNonRepeat(\"madam\")\n",
      "  "
     ],
     "language": "python",
     "metadata": {},
     "outputs": [
      {
       "output_type": "stream",
       "stream": "stdout",
       "text": [
        "m 1\n",
        "a 1\n",
        "d 1\n",
        "a 1\n",
        "m 1\n"
       ]
      }
     ],
     "prompt_number": 27
    },
    {
     "cell_type": "code",
     "collapsed": false,
     "input": [],
     "language": "python",
     "metadata": {},
     "outputs": []
    }
   ],
   "metadata": {}
  }
 ]
}