{
 "metadata": {
  "name": "",
  "signature": "sha256:a4dbc740869fc015ede6323b672ddee5f25a182e6a9178faf3c91d67d6b305b5"
 },
 "nbformat": 3,
 "nbformat_minor": 0,
 "worksheets": [
  {
   "cells": [
    {
     "cell_type": "code",
     "collapsed": false,
     "input": [
      "import numpy as np\n",
      "data = np.genfromtxt(\"users.dat\")\n",
      "perc = data[:,2]/data[:,1]\n",
      "err = data[:,3]/data[:,1]\n",
      "for i in range(0,len(perc)):\n",
      "  print perc[i],err[i] \n"
     ],
     "language": "python",
     "metadata": {},
     "outputs": [
      {
       "output_type": "stream",
       "stream": "stdout",
       "text": [
        "0.637254901961 0.0990196078431\n",
        "0.53488372093 0.108139534884\n",
        "0.685039370079 0.0889763779528\n",
        "0.589743589744 0.158974358974\n",
        "0.772727272727 0.213636363636\n",
        "0.5 0.133928571429\n",
        "0.366666666667 0.128333333333\n",
        "0.461538461538 0.138461538462\n",
        "0.5 0.0761627906977\n",
        "0.475 0.1575\n"
       ]
      }
     ],
     "prompt_number": 33
    },
    {
     "cell_type": "code",
     "collapsed": false,
     "input": [],
     "language": "python",
     "metadata": {},
     "outputs": []
    }
   ],
   "metadata": {}
  }
 ]
}