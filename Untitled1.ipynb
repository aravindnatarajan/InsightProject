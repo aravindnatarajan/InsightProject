{
 "metadata": {
  "name": "",
  "signature": "sha256:6c887aad31dfb5dca663b0199e35537c74f6da0182de9ba741641b0a2e31d7be"
 },
 "nbformat": 3,
 "nbformat_minor": 0,
 "worksheets": [
  {
   "cells": [
    {
     "cell_type": "code",
     "collapsed": false,
     "input": [
      "def nonRepeat(string):\n",
      "  \n",
      "  once = [False for i in range(0,256)]\n",
      "  many = [False for i in range(0,256)]  \n",
      "  \n",
      "  for letter in string:\n",
      "    idx = ord(letter)\n",
      "    if once[idx] == False: once[idx] = True\n",
      "    else:  many[idx] = True\n",
      "\n",
      "  for letter in string:\n",
      "    "
     ],
     "language": "python",
     "metadata": {},
     "outputs": [
      {
       "output_type": "stream",
       "stream": "stdout",
       "text": [
        "122\n"
       ]
      }
     ],
     "prompt_number": 36
    },
    {
     "cell_type": "code",
     "collapsed": false,
     "input": [],
     "language": "python",
     "metadata": {},
     "outputs": []
    }
   ],
   "metadata": {}
  }
 ]
}